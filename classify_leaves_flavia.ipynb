{
 "cells": [
  {
   "cell_type": "code",
   "execution_count": 1,
   "id": "bf07d1b9",
   "metadata": {},
   "outputs": [],
   "source": [
    "#Plant Leaf Classification\n",
    "#Applying machine learning models for classification of plant leaf images\n",
    "#Importing necessary libraries\n",
    "import numpy as np\n",
    "import pandas as pd\n",
    "import os\n",
    "import string"
   ]
  },
  {
   "cell_type": "code",
   "execution_count": 2,
   "id": "4d3d456c",
   "metadata": {},
   "outputs": [],
   "source": [
    "#Reading the dataset\n",
    "dataset = pd.read_csv(\"Flavia_features.csv\")"
   ]
  },
  {
   "cell_type": "code",
   "execution_count": 3,
   "id": "8db349ce",
   "metadata": {},
   "outputs": [
    {
     "data": {
      "text/html": [
       "<div>\n",
       "<style scoped>\n",
       "    .dataframe tbody tr th:only-of-type {\n",
       "        vertical-align: middle;\n",
       "    }\n",
       "\n",
       "    .dataframe tbody tr th {\n",
       "        vertical-align: top;\n",
       "    }\n",
       "\n",
       "    .dataframe thead th {\n",
       "        text-align: right;\n",
       "    }\n",
       "</style>\n",
       "<table border=\"1\" class=\"dataframe\">\n",
       "  <thead>\n",
       "    <tr style=\"text-align: right;\">\n",
       "      <th></th>\n",
       "      <th>Unnamed: 0</th>\n",
       "      <th>area</th>\n",
       "      <th>perimeter</th>\n",
       "      <th>physiological_length</th>\n",
       "      <th>physiological_width</th>\n",
       "      <th>aspect_ratio</th>\n",
       "      <th>rectangularity</th>\n",
       "      <th>circularity</th>\n",
       "      <th>mean_r</th>\n",
       "      <th>mean_g</th>\n",
       "      <th>mean_b</th>\n",
       "      <th>stddev_r</th>\n",
       "      <th>stddev_g</th>\n",
       "      <th>stddev_b</th>\n",
       "      <th>contrast</th>\n",
       "      <th>correlation</th>\n",
       "      <th>inverse_difference_moments</th>\n",
       "      <th>entropy</th>\n",
       "    </tr>\n",
       "  </thead>\n",
       "  <tbody>\n",
       "    <tr>\n",
       "      <th>0</th>\n",
       "      <td>0</td>\n",
       "      <td>197787.0</td>\n",
       "      <td>3479.036035</td>\n",
       "      <td>1416</td>\n",
       "      <td>759</td>\n",
       "      <td>1.865613</td>\n",
       "      <td>5.433846</td>\n",
       "      <td>61.195588</td>\n",
       "      <td>6.395667</td>\n",
       "      <td>13.643413</td>\n",
       "      <td>4.388007</td>\n",
       "      <td>24.025329</td>\n",
       "      <td>40.200931</td>\n",
       "      <td>21.448412</td>\n",
       "      <td>12.639688</td>\n",
       "      <td>0.997666</td>\n",
       "      <td>0.911738</td>\n",
       "      <td>1.688689</td>\n",
       "    </tr>\n",
       "    <tr>\n",
       "      <th>1</th>\n",
       "      <td>0</td>\n",
       "      <td>101297.0</td>\n",
       "      <td>2491.210239</td>\n",
       "      <td>1191</td>\n",
       "      <td>130</td>\n",
       "      <td>9.161538</td>\n",
       "      <td>1.528476</td>\n",
       "      <td>61.266656</td>\n",
       "      <td>7.049316</td>\n",
       "      <td>9.232018</td>\n",
       "      <td>10.876066</td>\n",
       "      <td>33.816205</td>\n",
       "      <td>37.382221</td>\n",
       "      <td>46.479230</td>\n",
       "      <td>8.137424</td>\n",
       "      <td>0.997191</td>\n",
       "      <td>0.944818</td>\n",
       "      <td>1.193795</td>\n",
       "    </tr>\n",
       "    <tr>\n",
       "      <th>2</th>\n",
       "      <td>0</td>\n",
       "      <td>86626.5</td>\n",
       "      <td>2291.511754</td>\n",
       "      <td>1096</td>\n",
       "      <td>119</td>\n",
       "      <td>9.210084</td>\n",
       "      <td>1.505590</td>\n",
       "      <td>60.616856</td>\n",
       "      <td>3.434303</td>\n",
       "      <td>6.371511</td>\n",
       "      <td>2.644757</td>\n",
       "      <td>19.975699</td>\n",
       "      <td>29.057374</td>\n",
       "      <td>19.275050</td>\n",
       "      <td>8.553729</td>\n",
       "      <td>0.996610</td>\n",
       "      <td>0.959023</td>\n",
       "      <td>0.848758</td>\n",
       "    </tr>\n",
       "    <tr>\n",
       "      <th>3</th>\n",
       "      <td>0</td>\n",
       "      <td>190481.0</td>\n",
       "      <td>2858.479352</td>\n",
       "      <td>1319</td>\n",
       "      <td>254</td>\n",
       "      <td>5.192913</td>\n",
       "      <td>1.758842</td>\n",
       "      <td>42.896164</td>\n",
       "      <td>7.670415</td>\n",
       "      <td>13.303599</td>\n",
       "      <td>6.049157</td>\n",
       "      <td>28.822885</td>\n",
       "      <td>40.221845</td>\n",
       "      <td>26.948604</td>\n",
       "      <td>8.440064</td>\n",
       "      <td>0.998419</td>\n",
       "      <td>0.914331</td>\n",
       "      <td>1.673914</td>\n",
       "    </tr>\n",
       "    <tr>\n",
       "      <th>4</th>\n",
       "      <td>0</td>\n",
       "      <td>228035.0</td>\n",
       "      <td>2920.420478</td>\n",
       "      <td>1325</td>\n",
       "      <td>286</td>\n",
       "      <td>4.632867</td>\n",
       "      <td>1.661806</td>\n",
       "      <td>37.401521</td>\n",
       "      <td>8.992028</td>\n",
       "      <td>16.671173</td>\n",
       "      <td>6.294281</td>\n",
       "      <td>30.967158</td>\n",
       "      <td>45.040198</td>\n",
       "      <td>28.595326</td>\n",
       "      <td>8.641447</td>\n",
       "      <td>0.998568</td>\n",
       "      <td>0.898644</td>\n",
       "      <td>1.968081</td>\n",
       "    </tr>\n",
       "  </tbody>\n",
       "</table>\n",
       "</div>"
      ],
      "text/plain": [
       "   Unnamed: 0      area    perimeter  physiological_length  \\\n",
       "0           0  197787.0  3479.036035                  1416   \n",
       "1           0  101297.0  2491.210239                  1191   \n",
       "2           0   86626.5  2291.511754                  1096   \n",
       "3           0  190481.0  2858.479352                  1319   \n",
       "4           0  228035.0  2920.420478                  1325   \n",
       "\n",
       "   physiological_width  aspect_ratio  rectangularity  circularity    mean_r  \\\n",
       "0                  759      1.865613        5.433846    61.195588  6.395667   \n",
       "1                  130      9.161538        1.528476    61.266656  7.049316   \n",
       "2                  119      9.210084        1.505590    60.616856  3.434303   \n",
       "3                  254      5.192913        1.758842    42.896164  7.670415   \n",
       "4                  286      4.632867        1.661806    37.401521  8.992028   \n",
       "\n",
       "      mean_g     mean_b   stddev_r   stddev_g   stddev_b   contrast  \\\n",
       "0  13.643413   4.388007  24.025329  40.200931  21.448412  12.639688   \n",
       "1   9.232018  10.876066  33.816205  37.382221  46.479230   8.137424   \n",
       "2   6.371511   2.644757  19.975699  29.057374  19.275050   8.553729   \n",
       "3  13.303599   6.049157  28.822885  40.221845  26.948604   8.440064   \n",
       "4  16.671173   6.294281  30.967158  45.040198  28.595326   8.641447   \n",
       "\n",
       "   correlation  inverse_difference_moments   entropy  \n",
       "0     0.997666                    0.911738  1.688689  \n",
       "1     0.997191                    0.944818  1.193795  \n",
       "2     0.996610                    0.959023  0.848758  \n",
       "3     0.998419                    0.914331  1.673914  \n",
       "4     0.998568                    0.898644  1.968081  "
      ]
     },
     "execution_count": 3,
     "metadata": {},
     "output_type": "execute_result"
    }
   ],
   "source": [
    "dataset.head(5)"
   ]
  },
  {
   "cell_type": "code",
   "execution_count": 4,
   "id": "0a0108f6",
   "metadata": {},
   "outputs": [
    {
     "data": {
      "text/plain": [
       "pandas.core.frame.DataFrame"
      ]
     },
     "execution_count": 4,
     "metadata": {},
     "output_type": "execute_result"
    }
   ],
   "source": [
    "type(dataset)"
   ]
  },
  {
   "cell_type": "code",
   "execution_count": 5,
   "id": "aa47a9b9",
   "metadata": {},
   "outputs": [],
   "source": [
    "maindir = \"C:\\\\Users\\\\Dell\\\\Documents\\\\VAMSIKRISHNA\\\\PROJECT\\\\SVM\"\n",
    "ds_path = maindir + \"\\\\Flavia leaves dataset\"\n",
    "img_files = os.listdir(ds_path)"
   ]
  },
  {
   "cell_type": "code",
   "execution_count": 6,
   "id": "83457df6",
   "metadata": {},
   "outputs": [],
   "source": [
    "#Creating target labels\n",
    "#Breakpoints are used alongside the image file to create a vector of target labels. The breakpoints are specified in Flavia leaves dataset website.\n",
    "\n",
    "breakpoints = [1001,1059,1060,1122,1552,1616,1123,1194,1195,1267,1268,1323,1324,1385,1386,1437,1497,1551,1438,1496,2001,2050,2051,2113,2114,2165,2166,2230,2231,2290,2291,2346,2347,2423,2424,2485,2486,2546,2547,2612,2616,2675,3001,3055,3056,3110,3111,3175,3176,3229,3230,3281,3282,3334,3335,3389,3390,3446,3447,3510,3511,3563,3566,3621]"
   ]
  },
  {
   "cell_type": "code",
   "execution_count": 7,
   "id": "30e083f3",
   "metadata": {},
   "outputs": [],
   "source": [
    "target_list = []\n",
    "for file in img_files:\n",
    "    target_num = int(file.split(\".\")[0])\n",
    "    flag = 0\n",
    "    i = 0 \n",
    "    for i in range(0,len(breakpoints),2):\n",
    "        if((target_num >= breakpoints[i]) and (target_num <= breakpoints[i+1])):\n",
    "            flag = 1\n",
    "            break\n",
    "    if(flag==1):\n",
    "        target = int((i/2))\n",
    "        target_list.append(target)"
   ]
  },
  {
   "cell_type": "code",
   "execution_count": 8,
   "id": "fbf46901",
   "metadata": {},
   "outputs": [
    {
     "data": {
      "text/plain": [
       "array([ 0,  0,  0, ..., 31, 31, 31])"
      ]
     },
     "execution_count": 8,
     "metadata": {},
     "output_type": "execute_result"
    }
   ],
   "source": [
    "y = np.array(target_list)\n",
    "y"
   ]
  },
  {
   "cell_type": "code",
   "execution_count": 9,
   "id": "48bdfc3c",
   "metadata": {},
   "outputs": [],
   "source": [
    "X = dataset.iloc[:,1:]"
   ]
  },
  {
   "cell_type": "code",
   "execution_count": 10,
   "id": "c1f10d68",
   "metadata": {},
   "outputs": [
    {
     "data": {
      "text/html": [
       "<div>\n",
       "<style scoped>\n",
       "    .dataframe tbody tr th:only-of-type {\n",
       "        vertical-align: middle;\n",
       "    }\n",
       "\n",
       "    .dataframe tbody tr th {\n",
       "        vertical-align: top;\n",
       "    }\n",
       "\n",
       "    .dataframe thead th {\n",
       "        text-align: right;\n",
       "    }\n",
       "</style>\n",
       "<table border=\"1\" class=\"dataframe\">\n",
       "  <thead>\n",
       "    <tr style=\"text-align: right;\">\n",
       "      <th></th>\n",
       "      <th>area</th>\n",
       "      <th>perimeter</th>\n",
       "      <th>physiological_length</th>\n",
       "      <th>physiological_width</th>\n",
       "      <th>aspect_ratio</th>\n",
       "      <th>rectangularity</th>\n",
       "      <th>circularity</th>\n",
       "      <th>mean_r</th>\n",
       "      <th>mean_g</th>\n",
       "      <th>mean_b</th>\n",
       "      <th>stddev_r</th>\n",
       "      <th>stddev_g</th>\n",
       "      <th>stddev_b</th>\n",
       "      <th>contrast</th>\n",
       "      <th>correlation</th>\n",
       "      <th>inverse_difference_moments</th>\n",
       "      <th>entropy</th>\n",
       "    </tr>\n",
       "  </thead>\n",
       "  <tbody>\n",
       "    <tr>\n",
       "      <th>0</th>\n",
       "      <td>197787.0</td>\n",
       "      <td>3479.036035</td>\n",
       "      <td>1416</td>\n",
       "      <td>759</td>\n",
       "      <td>1.865613</td>\n",
       "      <td>5.433846</td>\n",
       "      <td>61.195588</td>\n",
       "      <td>6.395667</td>\n",
       "      <td>13.643413</td>\n",
       "      <td>4.388007</td>\n",
       "      <td>24.025329</td>\n",
       "      <td>40.200931</td>\n",
       "      <td>21.448412</td>\n",
       "      <td>12.639688</td>\n",
       "      <td>0.997666</td>\n",
       "      <td>0.911738</td>\n",
       "      <td>1.688689</td>\n",
       "    </tr>\n",
       "    <tr>\n",
       "      <th>1</th>\n",
       "      <td>101297.0</td>\n",
       "      <td>2491.210239</td>\n",
       "      <td>1191</td>\n",
       "      <td>130</td>\n",
       "      <td>9.161538</td>\n",
       "      <td>1.528476</td>\n",
       "      <td>61.266656</td>\n",
       "      <td>7.049316</td>\n",
       "      <td>9.232018</td>\n",
       "      <td>10.876066</td>\n",
       "      <td>33.816205</td>\n",
       "      <td>37.382221</td>\n",
       "      <td>46.479230</td>\n",
       "      <td>8.137424</td>\n",
       "      <td>0.997191</td>\n",
       "      <td>0.944818</td>\n",
       "      <td>1.193795</td>\n",
       "    </tr>\n",
       "    <tr>\n",
       "      <th>2</th>\n",
       "      <td>86626.5</td>\n",
       "      <td>2291.511754</td>\n",
       "      <td>1096</td>\n",
       "      <td>119</td>\n",
       "      <td>9.210084</td>\n",
       "      <td>1.505590</td>\n",
       "      <td>60.616856</td>\n",
       "      <td>3.434303</td>\n",
       "      <td>6.371511</td>\n",
       "      <td>2.644757</td>\n",
       "      <td>19.975699</td>\n",
       "      <td>29.057374</td>\n",
       "      <td>19.275050</td>\n",
       "      <td>8.553729</td>\n",
       "      <td>0.996610</td>\n",
       "      <td>0.959023</td>\n",
       "      <td>0.848758</td>\n",
       "    </tr>\n",
       "    <tr>\n",
       "      <th>3</th>\n",
       "      <td>190481.0</td>\n",
       "      <td>2858.479352</td>\n",
       "      <td>1319</td>\n",
       "      <td>254</td>\n",
       "      <td>5.192913</td>\n",
       "      <td>1.758842</td>\n",
       "      <td>42.896164</td>\n",
       "      <td>7.670415</td>\n",
       "      <td>13.303599</td>\n",
       "      <td>6.049157</td>\n",
       "      <td>28.822885</td>\n",
       "      <td>40.221845</td>\n",
       "      <td>26.948604</td>\n",
       "      <td>8.440064</td>\n",
       "      <td>0.998419</td>\n",
       "      <td>0.914331</td>\n",
       "      <td>1.673914</td>\n",
       "    </tr>\n",
       "    <tr>\n",
       "      <th>4</th>\n",
       "      <td>228035.0</td>\n",
       "      <td>2920.420478</td>\n",
       "      <td>1325</td>\n",
       "      <td>286</td>\n",
       "      <td>4.632867</td>\n",
       "      <td>1.661806</td>\n",
       "      <td>37.401521</td>\n",
       "      <td>8.992028</td>\n",
       "      <td>16.671173</td>\n",
       "      <td>6.294281</td>\n",
       "      <td>30.967158</td>\n",
       "      <td>45.040198</td>\n",
       "      <td>28.595326</td>\n",
       "      <td>8.641447</td>\n",
       "      <td>0.998568</td>\n",
       "      <td>0.898644</td>\n",
       "      <td>1.968081</td>\n",
       "    </tr>\n",
       "  </tbody>\n",
       "</table>\n",
       "</div>"
      ],
      "text/plain": [
       "       area    perimeter  physiological_length  physiological_width  \\\n",
       "0  197787.0  3479.036035                  1416                  759   \n",
       "1  101297.0  2491.210239                  1191                  130   \n",
       "2   86626.5  2291.511754                  1096                  119   \n",
       "3  190481.0  2858.479352                  1319                  254   \n",
       "4  228035.0  2920.420478                  1325                  286   \n",
       "\n",
       "   aspect_ratio  rectangularity  circularity    mean_r     mean_g     mean_b  \\\n",
       "0      1.865613        5.433846    61.195588  6.395667  13.643413   4.388007   \n",
       "1      9.161538        1.528476    61.266656  7.049316   9.232018  10.876066   \n",
       "2      9.210084        1.505590    60.616856  3.434303   6.371511   2.644757   \n",
       "3      5.192913        1.758842    42.896164  7.670415  13.303599   6.049157   \n",
       "4      4.632867        1.661806    37.401521  8.992028  16.671173   6.294281   \n",
       "\n",
       "    stddev_r   stddev_g   stddev_b   contrast  correlation  \\\n",
       "0  24.025329  40.200931  21.448412  12.639688     0.997666   \n",
       "1  33.816205  37.382221  46.479230   8.137424     0.997191   \n",
       "2  19.975699  29.057374  19.275050   8.553729     0.996610   \n",
       "3  28.822885  40.221845  26.948604   8.440064     0.998419   \n",
       "4  30.967158  45.040198  28.595326   8.641447     0.998568   \n",
       "\n",
       "   inverse_difference_moments   entropy  \n",
       "0                    0.911738  1.688689  \n",
       "1                    0.944818  1.193795  \n",
       "2                    0.959023  0.848758  \n",
       "3                    0.914331  1.673914  \n",
       "4                    0.898644  1.968081  "
      ]
     },
     "execution_count": 10,
     "metadata": {},
     "output_type": "execute_result"
    }
   ],
   "source": [
    "X.head(5)"
   ]
  },
  {
   "cell_type": "code",
   "execution_count": 11,
   "id": "570bf812",
   "metadata": {},
   "outputs": [
    {
     "data": {
      "text/plain": [
       "array([0, 0, 0, 0, 0])"
      ]
     },
     "execution_count": 11,
     "metadata": {},
     "output_type": "execute_result"
    }
   ],
   "source": [
    "y[0:5]"
   ]
  },
  {
   "cell_type": "code",
   "execution_count": 12,
   "id": "3a1dce59",
   "metadata": {},
   "outputs": [],
   "source": [
    "#Train test split\n",
    "from sklearn.model_selection import train_test_split"
   ]
  },
  {
   "cell_type": "code",
   "execution_count": 13,
   "id": "df868720",
   "metadata": {},
   "outputs": [],
   "source": [
    "X_train, X_test, y_train, y_test = train_test_split(X, y, test_size=0.3, random_state = 142)"
   ]
  },
  {
   "cell_type": "code",
   "execution_count": 14,
   "id": "8152f0ed",
   "metadata": {},
   "outputs": [
    {
     "data": {
      "text/html": [
       "<div>\n",
       "<style scoped>\n",
       "    .dataframe tbody tr th:only-of-type {\n",
       "        vertical-align: middle;\n",
       "    }\n",
       "\n",
       "    .dataframe tbody tr th {\n",
       "        vertical-align: top;\n",
       "    }\n",
       "\n",
       "    .dataframe thead th {\n",
       "        text-align: right;\n",
       "    }\n",
       "</style>\n",
       "<table border=\"1\" class=\"dataframe\">\n",
       "  <thead>\n",
       "    <tr style=\"text-align: right;\">\n",
       "      <th></th>\n",
       "      <th>area</th>\n",
       "      <th>perimeter</th>\n",
       "      <th>physiological_length</th>\n",
       "      <th>physiological_width</th>\n",
       "      <th>aspect_ratio</th>\n",
       "      <th>rectangularity</th>\n",
       "      <th>circularity</th>\n",
       "      <th>mean_r</th>\n",
       "      <th>mean_g</th>\n",
       "      <th>mean_b</th>\n",
       "      <th>stddev_r</th>\n",
       "      <th>stddev_g</th>\n",
       "      <th>stddev_b</th>\n",
       "      <th>contrast</th>\n",
       "      <th>correlation</th>\n",
       "      <th>inverse_difference_moments</th>\n",
       "      <th>entropy</th>\n",
       "    </tr>\n",
       "  </thead>\n",
       "  <tbody>\n",
       "    <tr>\n",
       "      <th>147</th>\n",
       "      <td>816709.0</td>\n",
       "      <td>3599.604583</td>\n",
       "      <td>1101</td>\n",
       "      <td>1083</td>\n",
       "      <td>1.016620</td>\n",
       "      <td>1.459985</td>\n",
       "      <td>15.865079</td>\n",
       "      <td>36.740296</td>\n",
       "      <td>70.312759</td>\n",
       "      <td>25.082371</td>\n",
       "      <td>45.407495</td>\n",
       "      <td>81.168010</td>\n",
       "      <td>34.334657</td>\n",
       "      <td>22.519507</td>\n",
       "      <td>0.997333</td>\n",
       "      <td>0.649635</td>\n",
       "      <td>5.610550</td>\n",
       "    </tr>\n",
       "    <tr>\n",
       "      <th>837</th>\n",
       "      <td>921651.0</td>\n",
       "      <td>4100.217711</td>\n",
       "      <td>1379</td>\n",
       "      <td>1039</td>\n",
       "      <td>1.327238</td>\n",
       "      <td>1.554581</td>\n",
       "      <td>18.240945</td>\n",
       "      <td>34.696545</td>\n",
       "      <td>64.960450</td>\n",
       "      <td>23.699098</td>\n",
       "      <td>46.639467</td>\n",
       "      <td>69.345104</td>\n",
       "      <td>35.581559</td>\n",
       "      <td>92.360498</td>\n",
       "      <td>0.992630</td>\n",
       "      <td>0.560696</td>\n",
       "      <td>7.248007</td>\n",
       "    </tr>\n",
       "    <tr>\n",
       "      <th>358</th>\n",
       "      <td>552595.5</td>\n",
       "      <td>3851.400599</td>\n",
       "      <td>1398</td>\n",
       "      <td>1049</td>\n",
       "      <td>1.332698</td>\n",
       "      <td>2.653844</td>\n",
       "      <td>26.842938</td>\n",
       "      <td>29.863131</td>\n",
       "      <td>49.429785</td>\n",
       "      <td>23.717367</td>\n",
       "      <td>48.482326</td>\n",
       "      <td>77.064822</td>\n",
       "      <td>39.447077</td>\n",
       "      <td>23.181860</td>\n",
       "      <td>0.996204</td>\n",
       "      <td>0.751559</td>\n",
       "      <td>4.221778</td>\n",
       "    </tr>\n",
       "    <tr>\n",
       "      <th>962</th>\n",
       "      <td>38792.5</td>\n",
       "      <td>3037.410695</td>\n",
       "      <td>1177</td>\n",
       "      <td>822</td>\n",
       "      <td>1.431873</td>\n",
       "      <td>24.940233</td>\n",
       "      <td>237.825965</td>\n",
       "      <td>4.282973</td>\n",
       "      <td>5.213605</td>\n",
       "      <td>4.262034</td>\n",
       "      <td>27.772276</td>\n",
       "      <td>30.832113</td>\n",
       "      <td>28.934080</td>\n",
       "      <td>6.313021</td>\n",
       "      <td>0.993080</td>\n",
       "      <td>0.971889</td>\n",
       "      <td>0.634764</td>\n",
       "    </tr>\n",
       "    <tr>\n",
       "      <th>1101</th>\n",
       "      <td>941357.5</td>\n",
       "      <td>3719.822837</td>\n",
       "      <td>1303</td>\n",
       "      <td>988</td>\n",
       "      <td>1.318826</td>\n",
       "      <td>1.367561</td>\n",
       "      <td>14.699072</td>\n",
       "      <td>43.594426</td>\n",
       "      <td>72.467562</td>\n",
       "      <td>32.378145</td>\n",
       "      <td>47.408525</td>\n",
       "      <td>73.463708</td>\n",
       "      <td>37.026025</td>\n",
       "      <td>11.663896</td>\n",
       "      <td>0.998818</td>\n",
       "      <td>0.635070</td>\n",
       "      <td>6.042617</td>\n",
       "    </tr>\n",
       "  </tbody>\n",
       "</table>\n",
       "</div>"
      ],
      "text/plain": [
       "          area    perimeter  physiological_length  physiological_width  \\\n",
       "147   816709.0  3599.604583                  1101                 1083   \n",
       "837   921651.0  4100.217711                  1379                 1039   \n",
       "358   552595.5  3851.400599                  1398                 1049   \n",
       "962    38792.5  3037.410695                  1177                  822   \n",
       "1101  941357.5  3719.822837                  1303                  988   \n",
       "\n",
       "      aspect_ratio  rectangularity  circularity     mean_r     mean_g  \\\n",
       "147       1.016620        1.459985    15.865079  36.740296  70.312759   \n",
       "837       1.327238        1.554581    18.240945  34.696545  64.960450   \n",
       "358       1.332698        2.653844    26.842938  29.863131  49.429785   \n",
       "962       1.431873       24.940233   237.825965   4.282973   5.213605   \n",
       "1101      1.318826        1.367561    14.699072  43.594426  72.467562   \n",
       "\n",
       "         mean_b   stddev_r   stddev_g   stddev_b   contrast  correlation  \\\n",
       "147   25.082371  45.407495  81.168010  34.334657  22.519507     0.997333   \n",
       "837   23.699098  46.639467  69.345104  35.581559  92.360498     0.992630   \n",
       "358   23.717367  48.482326  77.064822  39.447077  23.181860     0.996204   \n",
       "962    4.262034  27.772276  30.832113  28.934080   6.313021     0.993080   \n",
       "1101  32.378145  47.408525  73.463708  37.026025  11.663896     0.998818   \n",
       "\n",
       "      inverse_difference_moments   entropy  \n",
       "147                     0.649635  5.610550  \n",
       "837                     0.560696  7.248007  \n",
       "358                     0.751559  4.221778  \n",
       "962                     0.971889  0.634764  \n",
       "1101                    0.635070  6.042617  "
      ]
     },
     "execution_count": 14,
     "metadata": {},
     "output_type": "execute_result"
    }
   ],
   "source": [
    "X_train.head(5)"
   ]
  },
  {
   "cell_type": "code",
   "execution_count": 15,
   "id": "e0da7217",
   "metadata": {},
   "outputs": [
    {
     "data": {
      "text/plain": [
       "array([ 3, 13,  6, 16, 18])"
      ]
     },
     "execution_count": 15,
     "metadata": {},
     "output_type": "execute_result"
    }
   ],
   "source": [
    "y_train[0:5]"
   ]
  },
  {
   "cell_type": "code",
   "execution_count": 16,
   "id": "3c0dc3be",
   "metadata": {},
   "outputs": [],
   "source": [
    "#Feature Scaling\n",
    "from sklearn.preprocessing import StandardScaler"
   ]
  },
  {
   "cell_type": "code",
   "execution_count": 17,
   "id": "49ec4b5f",
   "metadata": {},
   "outputs": [],
   "source": [
    "sc_X = StandardScaler()\n",
    "X_train = sc_X.fit_transform(X_train)\n",
    "X_test = sc_X.transform(X_test)"
   ]
  },
  {
   "cell_type": "code",
   "execution_count": 18,
   "id": "2f648019",
   "metadata": {},
   "outputs": [
    {
     "data": {
      "text/plain": [
       "array([[ 0.83107496, -0.1662643 , -0.88147185,  0.86194026, -0.95565321,\n",
       "        -0.34025156, -0.4276171 ,  0.01198242,  0.22802428, -0.06515913,\n",
       "        -0.03038517,  0.66516332, -0.17255204, -0.1745652 ,  0.2744626 ,\n",
       "        -0.97141055,  0.72845006],\n",
       "       [ 1.22798745,  0.47033473,  0.26759454,  0.67696483, -0.45606003,\n",
       "        -0.31922893, -0.37234494, -0.04156278,  0.1082232 , -0.10299271,\n",
       "         0.04545738, -0.01456099, -0.11043539,  2.35360002, -1.92405329,\n",
       "        -1.86068867,  1.7415609 ]])"
      ]
     },
     "execution_count": 18,
     "metadata": {},
     "output_type": "execute_result"
    }
   ],
   "source": [
    "X_train[0:2]"
   ]
  },
  {
   "cell_type": "code",
   "execution_count": 19,
   "id": "c4122d35",
   "metadata": {},
   "outputs": [
    {
     "data": {
      "text/plain": [
       "array([ 3, 13])"
      ]
     },
     "execution_count": 19,
     "metadata": {},
     "output_type": "execute_result"
    }
   ],
   "source": [
    "y_train[0:2]"
   ]
  },
  {
   "cell_type": "code",
   "execution_count": 20,
   "id": "c1b02479",
   "metadata": {},
   "outputs": [],
   "source": [
    "#Applying SVM classifier model\n",
    "from sklearn import svm"
   ]
  },
  {
   "cell_type": "code",
   "execution_count": 21,
   "id": "04c03051",
   "metadata": {},
   "outputs": [
    {
     "data": {
      "text/plain": [
       "SVC()"
      ]
     },
     "execution_count": 21,
     "metadata": {},
     "output_type": "execute_result"
    }
   ],
   "source": [
    "clf = svm.SVC()\n",
    "clf.fit(X_train,y_train)"
   ]
  },
  {
   "cell_type": "code",
   "execution_count": 22,
   "id": "022d715e",
   "metadata": {},
   "outputs": [],
   "source": [
    "y_pred = clf.predict(X_test)"
   ]
  },
  {
   "cell_type": "code",
   "execution_count": 23,
   "id": "eca35659",
   "metadata": {},
   "outputs": [],
   "source": [
    "from sklearn import metrics"
   ]
  },
  {
   "cell_type": "code",
   "execution_count": 24,
   "id": "0ec133e9",
   "metadata": {},
   "outputs": [
    {
     "data": {
      "text/plain": [
       "0.7975567190226877"
      ]
     },
     "execution_count": 24,
     "metadata": {},
     "output_type": "execute_result"
    }
   ],
   "source": [
    "metrics.accuracy_score(y_test, y_pred)"
   ]
  },
  {
   "cell_type": "code",
   "execution_count": 25,
   "id": "8493179a",
   "metadata": {},
   "outputs": [
    {
     "name": "stdout",
     "output_type": "stream",
     "text": [
      "              precision    recall  f1-score   support\n",
      "\n",
      "           0       0.83      0.28      0.42        18\n",
      "           1       0.62      0.72      0.67        18\n",
      "           2       0.90      0.86      0.88        22\n",
      "           3       0.81      0.96      0.88        27\n",
      "           4       0.96      1.00      0.98        24\n",
      "           5       0.94      1.00      0.97        16\n",
      "           6       0.73      0.95      0.83        20\n",
      "           7       0.83      0.71      0.77        14\n",
      "           8       0.35      0.50      0.41        12\n",
      "           9       0.93      0.93      0.93        15\n",
      "          10       0.67      0.89      0.76        18\n",
      "          11       0.92      0.61      0.73        18\n",
      "          12       0.56      0.78      0.65        18\n",
      "          13       0.94      0.71      0.81        24\n",
      "          14       0.60      0.46      0.52        13\n",
      "          15       0.44      0.22      0.30        18\n",
      "          16       1.00      1.00      1.00        26\n",
      "          17       0.89      1.00      0.94        17\n",
      "          18       0.94      0.81      0.87        21\n",
      "          19       0.82      0.93      0.87        15\n",
      "          20       0.62      0.93      0.74        14\n",
      "          21       0.62      0.87      0.72        15\n",
      "          22       1.00      0.93      0.96        14\n",
      "          23       0.70      0.88      0.78        16\n",
      "          24       0.92      0.69      0.79        16\n",
      "          25       0.75      0.69      0.72        13\n",
      "          26       0.93      0.93      0.93        15\n",
      "          27       0.86      0.86      0.86        22\n",
      "          28       0.69      0.79      0.73        14\n",
      "          29       0.85      0.81      0.83        21\n",
      "          30       0.91      0.67      0.77        15\n",
      "          31       0.95      0.79      0.86        24\n",
      "\n",
      "    accuracy                           0.80       573\n",
      "   macro avg       0.80      0.79      0.78       573\n",
      "weighted avg       0.81      0.80      0.79       573\n",
      "\n"
     ]
    }
   ],
   "source": [
    "print(metrics.classification_report(y_test, y_pred))"
   ]
  },
  {
   "cell_type": "code",
   "execution_count": 26,
   "id": "283e32ac",
   "metadata": {},
   "outputs": [],
   "source": [
    "#Performing parameter tuning of the model\n",
    "from sklearn.model_selection import GridSearchCV"
   ]
  },
  {
   "cell_type": "code",
   "execution_count": 27,
   "id": "0c3fe28f",
   "metadata": {},
   "outputs": [],
   "source": [
    "parameters = [{'kernel': ['rbf'],\n",
    "               'gamma': [1e-4, 1e-3, 0.01, 0.1, 0.2, 0.5],\n",
    "               'C': [1, 10, 100, 1000]},\n",
    "              {'kernel': ['linear'], 'C': [1, 10, 100, 1000]}\n",
    "             ]"
   ]
  },
  {
   "cell_type": "code",
   "execution_count": 28,
   "id": "3a4c12ff",
   "metadata": {},
   "outputs": [
    {
     "data": {
      "text/plain": [
       "GridSearchCV(cv=5, estimator=SVC(),\n",
       "             param_grid=[{'C': [1, 10, 100, 1000],\n",
       "                          'gamma': [0.0001, 0.001, 0.01, 0.1, 0.2, 0.5],\n",
       "                          'kernel': ['rbf']},\n",
       "                         {'C': [1, 10, 100, 1000], 'kernel': ['linear']}])"
      ]
     },
     "execution_count": 28,
     "metadata": {},
     "output_type": "execute_result"
    }
   ],
   "source": [
    "svm_clf = GridSearchCV(svm.SVC(decision_function_shape='ovr'), parameters, cv=5)\n",
    "svm_clf.fit(X_train, y_train)"
   ]
  },
  {
   "cell_type": "code",
   "execution_count": 29,
   "id": "1b4743bb",
   "metadata": {},
   "outputs": [
    {
     "data": {
      "text/plain": [
       "{'C': 1000, 'gamma': 0.01, 'kernel': 'rbf'}"
      ]
     },
     "execution_count": 29,
     "metadata": {},
     "output_type": "execute_result"
    }
   ],
   "source": [
    "svm_clf.best_params_"
   ]
  },
  {
   "cell_type": "code",
   "execution_count": 30,
   "id": "159e21c6",
   "metadata": {},
   "outputs": [
    {
     "name": "stdout",
     "output_type": "stream",
     "text": [
      "0.060 (+/-0.037) for {'C': 1, 'gamma': 0.0001, 'kernel': 'rbf'}\n",
      "0.197 (+/-0.019) for {'C': 1, 'gamma': 0.001, 'kernel': 'rbf'}\n",
      "0.599 (+/-0.043) for {'C': 1, 'gamma': 0.01, 'kernel': 'rbf'}\n",
      "0.829 (+/-0.060) for {'C': 1, 'gamma': 0.1, 'kernel': 'rbf'}\n",
      "0.841 (+/-0.053) for {'C': 1, 'gamma': 0.2, 'kernel': 'rbf'}\n",
      "0.859 (+/-0.045) for {'C': 1, 'gamma': 0.5, 'kernel': 'rbf'}\n",
      "0.199 (+/-0.019) for {'C': 10, 'gamma': 0.0001, 'kernel': 'rbf'}\n",
      "0.603 (+/-0.048) for {'C': 10, 'gamma': 0.001, 'kernel': 'rbf'}\n",
      "0.839 (+/-0.048) for {'C': 10, 'gamma': 0.01, 'kernel': 'rbf'}\n",
      "0.888 (+/-0.037) for {'C': 10, 'gamma': 0.1, 'kernel': 'rbf'}\n",
      "0.882 (+/-0.018) for {'C': 10, 'gamma': 0.2, 'kernel': 'rbf'}\n",
      "0.867 (+/-0.022) for {'C': 10, 'gamma': 0.5, 'kernel': 'rbf'}\n",
      "0.603 (+/-0.054) for {'C': 100, 'gamma': 0.0001, 'kernel': 'rbf'}\n",
      "0.840 (+/-0.046) for {'C': 100, 'gamma': 0.001, 'kernel': 'rbf'}\n",
      "0.889 (+/-0.025) for {'C': 100, 'gamma': 0.01, 'kernel': 'rbf'}\n",
      "0.886 (+/-0.010) for {'C': 100, 'gamma': 0.1, 'kernel': 'rbf'}\n",
      "0.875 (+/-0.026) for {'C': 100, 'gamma': 0.2, 'kernel': 'rbf'}\n",
      "0.871 (+/-0.015) for {'C': 100, 'gamma': 0.5, 'kernel': 'rbf'}\n",
      "0.837 (+/-0.053) for {'C': 1000, 'gamma': 0.0001, 'kernel': 'rbf'}\n",
      "0.886 (+/-0.036) for {'C': 1000, 'gamma': 0.001, 'kernel': 'rbf'}\n",
      "0.904 (+/-0.028) for {'C': 1000, 'gamma': 0.01, 'kernel': 'rbf'}\n",
      "0.886 (+/-0.018) for {'C': 1000, 'gamma': 0.1, 'kernel': 'rbf'}\n",
      "0.876 (+/-0.025) for {'C': 1000, 'gamma': 0.2, 'kernel': 'rbf'}\n",
      "0.870 (+/-0.016) for {'C': 1000, 'gamma': 0.5, 'kernel': 'rbf'}\n",
      "0.870 (+/-0.043) for {'C': 1, 'kernel': 'linear'}\n",
      "0.894 (+/-0.031) for {'C': 10, 'kernel': 'linear'}\n",
      "0.897 (+/-0.039) for {'C': 100, 'kernel': 'linear'}\n",
      "0.895 (+/-0.035) for {'C': 1000, 'kernel': 'linear'}\n"
     ]
    }
   ],
   "source": [
    "means = svm_clf.cv_results_['mean_test_score']\n",
    "stds = svm_clf.cv_results_['std_test_score']\n",
    "for mean, std, params in zip(means, stds, svm_clf.cv_results_['params']):\n",
    "    print(\"%0.3f (+/-%0.03f) for %r\" % (mean, std * 2, params))"
   ]
  },
  {
   "cell_type": "code",
   "execution_count": 31,
   "id": "bf625a5a",
   "metadata": {},
   "outputs": [],
   "source": [
    "y_pred_svm = svm_clf.predict(X_test)"
   ]
  },
  {
   "cell_type": "code",
   "execution_count": 32,
   "id": "c4bc150e",
   "metadata": {},
   "outputs": [
    {
     "data": {
      "text/plain": [
       "0.8987783595113438"
      ]
     },
     "execution_count": 32,
     "metadata": {},
     "output_type": "execute_result"
    }
   ],
   "source": [
    "metrics.accuracy_score(y_test, y_pred_svm)"
   ]
  },
  {
   "cell_type": "code",
   "execution_count": 33,
   "id": "583a937e",
   "metadata": {},
   "outputs": [
    {
     "name": "stdout",
     "output_type": "stream",
     "text": [
      "              precision    recall  f1-score   support\n",
      "\n",
      "           0       0.74      0.78      0.76        18\n",
      "           1       0.83      0.83      0.83        18\n",
      "           2       1.00      0.86      0.93        22\n",
      "           3       0.96      0.93      0.94        27\n",
      "           4       1.00      1.00      1.00        24\n",
      "           5       0.94      1.00      0.97        16\n",
      "           6       0.79      0.95      0.86        20\n",
      "           7       0.92      0.86      0.89        14\n",
      "           8       0.50      0.58      0.54        12\n",
      "           9       1.00      1.00      1.00        15\n",
      "          10       0.88      0.83      0.86        18\n",
      "          11       0.88      0.78      0.82        18\n",
      "          12       0.89      0.89      0.89        18\n",
      "          13       0.79      0.79      0.79        24\n",
      "          14       0.85      0.85      0.85        13\n",
      "          15       0.68      0.72      0.70        18\n",
      "          16       1.00      1.00      1.00        26\n",
      "          17       0.94      1.00      0.97        17\n",
      "          18       0.91      1.00      0.95        21\n",
      "          19       0.93      0.93      0.93        15\n",
      "          20       0.92      0.86      0.89        14\n",
      "          21       0.88      1.00      0.94        15\n",
      "          22       1.00      1.00      1.00        14\n",
      "          23       0.94      1.00      0.97        16\n",
      "          24       0.87      0.81      0.84        16\n",
      "          25       1.00      0.77      0.87        13\n",
      "          26       0.88      1.00      0.94        15\n",
      "          27       1.00      1.00      1.00        22\n",
      "          28       0.93      0.93      0.93        14\n",
      "          29       0.90      0.86      0.88        21\n",
      "          30       0.93      0.87      0.90        15\n",
      "          31       1.00      0.92      0.96        24\n",
      "\n",
      "    accuracy                           0.90       573\n",
      "   macro avg       0.90      0.89      0.89       573\n",
      "weighted avg       0.90      0.90      0.90       573\n",
      "\n"
     ]
    }
   ],
   "source": [
    "print(metrics.classification_report(y_test, y_pred_svm))"
   ]
  },
  {
   "cell_type": "code",
   "execution_count": 34,
   "id": "249e1e9e",
   "metadata": {},
   "outputs": [],
   "source": [
    "#Dimensionality Reduction using PCA\n",
    "from sklearn.decomposition import PCA"
   ]
  },
  {
   "cell_type": "code",
   "execution_count": 35,
   "id": "62476890",
   "metadata": {},
   "outputs": [],
   "source": [
    "pca = PCA()"
   ]
  },
  {
   "cell_type": "code",
   "execution_count": 36,
   "id": "d57a2036",
   "metadata": {},
   "outputs": [
    {
     "data": {
      "text/plain": [
       "PCA()"
      ]
     },
     "execution_count": 36,
     "metadata": {},
     "output_type": "execute_result"
    }
   ],
   "source": [
    "pca.fit(X)"
   ]
  },
  {
   "cell_type": "code",
   "execution_count": 37,
   "id": "505c565e",
   "metadata": {},
   "outputs": [
    {
     "data": {
      "text/plain": [
       "array([9.99992850e-01, 6.46252547e-06, 3.92421104e-07, 2.07420965e-07,\n",
       "       6.10351124e-08, 1.36319644e-08, 8.97309526e-09, 2.57948567e-09,\n",
       "       8.58148044e-10, 2.05591984e-10, 1.06493821e-10, 1.30658857e-11,\n",
       "       2.26591998e-12, 1.38328640e-12, 5.57713116e-13, 3.37431048e-15,\n",
       "       1.00979877e-17])"
      ]
     },
     "execution_count": 37,
     "metadata": {},
     "output_type": "execute_result"
    }
   ],
   "source": [
    "var= pca.explained_variance_ratio_\n",
    "var"
   ]
  },
  {
   "cell_type": "code",
   "execution_count": 38,
   "id": "6b168fff",
   "metadata": {},
   "outputs": [],
   "source": [
    "import matplotlib.pyplot as plt\n",
    "%matplotlib inline"
   ]
  },
  {
   "cell_type": "code",
   "execution_count": 39,
   "id": "ba29a827",
   "metadata": {},
   "outputs": [
    {
     "data": {
      "text/plain": [
       "[<matplotlib.lines.Line2D at 0x18e97866520>]"
      ]
     },
     "execution_count": 39,
     "metadata": {},
     "output_type": "execute_result"
    },
    {
     "data": {
      "image/png": "[encoded data removed]",
      "text/plain": [
       "<Figure size 432x288 with 1 Axes>"
      ]
     },
     "metadata": {
      "needs_background": "light"
     },
     "output_type": "display_data"
    }
   ],
   "source": [
    "var1=np.cumsum(np.round(pca.explained_variance_ratio_, decimals=4)*100)\n",
    "plt.plot(var1)"
   ]
  },
  {
   "cell_type": "code",
   "execution_count": 40,
   "id": "805596bd",
   "metadata": {},
   "outputs": [],
   "source": [
    "#Testing with mobile captured leaves which are not classified\n",
    "import os\n",
    "import cv2"
   ]
  },
  {
   "cell_type": "code",
   "execution_count": 41,
   "id": "a8b53157",
   "metadata": {},
   "outputs": [],
   "source": [
    "def bg_sub(filename):\n",
    "    test_img_path = \"C:\\\\Users\\\\Dell\\\\Documents\\\\VAMSIKRISHNA\\\\PROJECT\\\\SVM\\\\mobile captures\\\\\" + filename\n",
    "    main_img = cv2.imread(test_img_path)\n",
    "    img = cv2.cvtColor(main_img, cv2.COLOR_BGR2RGB)\n",
    "    resized_image = cv2.resize(img, (1600, 1200))\n",
    "    size_y,size_x,_ = img.shape\n",
    "    gs = cv2.cvtColor(resized_image,cv2.COLOR_RGB2GRAY)\n",
    "    blur = cv2.GaussianBlur(gs, (55,55),0)\n",
    "    ret_otsu,im_bw_otsu = cv2.threshold(blur,0,255,cv2.THRESH_BINARY_INV+cv2.THRESH_OTSU)\n",
    "    kernel = np.ones((50,50),np.uint8)\n",
    "    closing = cv2.morphologyEx(im_bw_otsu, cv2.MORPH_CLOSE, kernel)\n",
    "    \n",
    "    contours, hierarchy = cv2.findContours(closing,cv2.RETR_TREE,cv2.CHAIN_APPROX_SIMPLE)\n",
    "    \n",
    "    contains = []\n",
    "    y_ri,x_ri, _ = resized_image.shape\n",
    "    for cc in contours:\n",
    "        yn = cv2.pointPolygonTest(cc,(x_ri//2,y_ri//2),False)\n",
    "        contains.append(yn)\n",
    "\n",
    "    val = [contains.index(temp) for temp in contains if temp>0]\n",
    "    index = val[0]\n",
    "    \n",
    "    black_img = np.empty([1200,1600,3],dtype=np.uint8)\n",
    "    black_img.fill(0)\n",
    "    \n",
    "    cnt = contours[index]\n",
    "    mask = cv2.drawContours(black_img, [cnt] , 0, (255,255,255), -1)\n",
    "    \n",
    "    maskedImg = cv2.bitwise_and(resized_image, mask)\n",
    "    white_pix = [255,255,255]\n",
    "    black_pix = [0,0,0]\n",
    "    \n",
    "    final_img = maskedImg\n",
    "    h,w,channels = final_img.shape\n",
    "    for x in range(0,w):\n",
    "        for y in range(0,h):\n",
    "            channels_xy = final_img[y,x]\n",
    "            if all(channels_xy == black_pix):\n",
    "                final_img[y,x] = white_pix\n",
    "    \n",
    "    return final_img"
   ]
  },
  {
   "cell_type": "code",
   "execution_count": 42,
   "id": "740cb2a6",
   "metadata": {},
   "outputs": [],
   "source": [
    "filename = '2451.jpg' \n",
    "bg_rem_img = bg_sub(filename)"
   ]
  },
  {
   "cell_type": "code",
   "execution_count": 43,
   "id": "8af19091",
   "metadata": {},
   "outputs": [
    {
     "data": {
      "text/plain": [
       "<matplotlib.image.AxesImage at 0x18e97bb4dc0>"
      ]
     },
     "execution_count": 43,
     "metadata": {},
     "output_type": "execute_result"
    },
    {
     "data": {
      "image/png": "[encoded data removed]",
      "text/plain": [
       "<Figure size 432x288 with 1 Axes>"
      ]
     },
     "metadata": {
      "needs_background": "light"
     },
     "output_type": "display_data"
    }
   ],
   "source": [
    "plt.imshow(bg_rem_img)"
   ]
  },
  {
   "cell_type": "code",
   "execution_count": 44,
   "id": "2752db41",
   "metadata": {},
   "outputs": [],
   "source": [
    "import mahotas as mt\n",
    "import cv2\n",
    "import matplotlib.pyplot as plt"
   ]
  },
  {
   "cell_type": "code",
   "execution_count": 45,
   "id": "ed5890ee",
   "metadata": {},
   "outputs": [],
   "source": [
    "def feature_extract(img):\n",
    "    names = ['area','perimeter','pysiological_length','pysiological_width','aspect_ratio','rectangularity','circularity', \\\n",
    "             'mean_r','mean_g','mean_b','stddev_r','stddev_g','stddev_b', \\\n",
    "             'contrast','correlation','inverse_difference_moments','entropy'\n",
    "            ]\n",
    "    df = pd.DataFrame([], columns=names)\n",
    "\n",
    "    #Preprocessing\n",
    "    gs = cv2.cvtColor(img,cv2.COLOR_RGB2GRAY)\n",
    "    blur = cv2.GaussianBlur(gs, (25,25),0)\n",
    "    ret_otsu,im_bw_otsu = cv2.threshold(blur,0,255,cv2.THRESH_BINARY_INV+cv2.THRESH_OTSU)\n",
    "    kernel = np.ones((50,50),np.uint8)\n",
    "    closing = cv2.morphologyEx(im_bw_otsu, cv2.MORPH_CLOSE, kernel)\n",
    "\n",
    "    #Shape features\n",
    "    contours, hierarchy = cv2.findContours(closing,cv2.RETR_TREE,cv2.CHAIN_APPROX_SIMPLE)\n",
    "    cnt = contours[0]\n",
    "    M = cv2.moments(cnt)\n",
    "    area = cv2.contourArea(cnt)\n",
    "    perimeter = cv2.arcLength(cnt,True)\n",
    "    x,y,w,h = cv2.boundingRect(cnt)\n",
    "    aspect_ratio = float(w)/h\n",
    "    rectangularity = w*h/area\n",
    "    circularity = ((perimeter)**2)/area\n",
    "\n",
    "    #Color features\n",
    "    red_channel = img[:,:,0]\n",
    "    green_channel = img[:,:,1]\n",
    "    blue_channel = img[:,:,2]\n",
    "    blue_channel[blue_channel == 255] = 0\n",
    "    green_channel[green_channel == 255] = 0\n",
    "    red_channel[red_channel == 255] = 0\n",
    "\n",
    "    red_mean = np.mean(red_channel)\n",
    "    green_mean = np.mean(green_channel)\n",
    "    blue_mean = np.mean(blue_channel)\n",
    "\n",
    "    red_std = np.std(red_channel)\n",
    "    green_std = np.std(green_channel)\n",
    "    blue_std = np.std(blue_channel)\n",
    "\n",
    "    #Texture features\n",
    "    textures = mt.features.haralick(gs)\n",
    "    ht_mean = textures.mean(axis=0)\n",
    "    contrast = ht_mean[1]\n",
    "    correlation = ht_mean[2]\n",
    "    inverse_diff_moments = ht_mean[4]\n",
    "    entropy = ht_mean[8]\n",
    "\n",
    "    vector = [area,perimeter,w,h,aspect_ratio,rectangularity,circularity,\\\n",
    "              red_mean,green_mean,blue_mean,red_std,green_std,blue_std,\\\n",
    "              contrast,correlation,inverse_diff_moments,entropy\n",
    "             ]\n",
    "\n",
    "    df_temp = pd.DataFrame([vector],columns=names)\n",
    "    df = df.append(df_temp)\n",
    "    \n",
    "    return df"
   ]
  },
  {
   "cell_type": "code",
   "execution_count": 46,
   "id": "8812de98",
   "metadata": {},
   "outputs": [
    {
     "name": "stderr",
     "output_type": "stream",
     "text": [
      "C:\\Users\\Public\\Documents\\Wondershare\\CreatorTemp\\ipykernel_5964\\2107249931.py:56: FutureWarning: The frame.append method is deprecated and will be removed from pandas in a future version. Use pandas.concat instead.\n",
      "  df = df.append(df_temp)\n"
     ]
    },
    {
     "data": {
      "text/html": [
       "<div>\n",
       "<style scoped>\n",
       "    .dataframe tbody tr th:only-of-type {\n",
       "        vertical-align: middle;\n",
       "    }\n",
       "\n",
       "    .dataframe tbody tr th {\n",
       "        vertical-align: top;\n",
       "    }\n",
       "\n",
       "    .dataframe thead th {\n",
       "        text-align: right;\n",
       "    }\n",
       "</style>\n",
       "<table border=\"1\" class=\"dataframe\">\n",
       "  <thead>\n",
       "    <tr style=\"text-align: right;\">\n",
       "      <th></th>\n",
       "      <th>area</th>\n",
       "      <th>perimeter</th>\n",
       "      <th>pysiological_length</th>\n",
       "      <th>pysiological_width</th>\n",
       "      <th>aspect_ratio</th>\n",
       "      <th>rectangularity</th>\n",
       "      <th>circularity</th>\n",
       "      <th>mean_r</th>\n",
       "      <th>mean_g</th>\n",
       "      <th>mean_b</th>\n",
       "      <th>stddev_r</th>\n",
       "      <th>stddev_g</th>\n",
       "      <th>stddev_b</th>\n",
       "      <th>contrast</th>\n",
       "      <th>correlation</th>\n",
       "      <th>inverse_difference_moments</th>\n",
       "      <th>entropy</th>\n",
       "    </tr>\n",
       "  </thead>\n",
       "  <tbody>\n",
       "    <tr>\n",
       "      <th>0</th>\n",
       "      <td>956136.5</td>\n",
       "      <td>4721.465404</td>\n",
       "      <td>1467</td>\n",
       "      <td>1035</td>\n",
       "      <td>1.417391</td>\n",
       "      <td>1.588</td>\n",
       "      <td>23.314909</td>\n",
       "      <td>49.156452</td>\n",
       "      <td>91.807155</td>\n",
       "      <td>27.064933</td>\n",
       "      <td>49.901688</td>\n",
       "      <td>92.057531</td>\n",
       "      <td>28.424575</td>\n",
       "      <td>21.483121</td>\n",
       "      <td>0.996633</td>\n",
       "      <td>0.623834</td>\n",
       "      <td>5.827438</td>\n",
       "    </tr>\n",
       "  </tbody>\n",
       "</table>\n",
       "</div>"
      ],
      "text/plain": [
       "       area    perimeter pysiological_length pysiological_width aspect_ratio  \\\n",
       "0  956136.5  4721.465404                1467               1035     1.417391   \n",
       "\n",
       "  rectangularity circularity     mean_r     mean_g     mean_b   stddev_r  \\\n",
       "0          1.588   23.314909  49.156452  91.807155  27.064933  49.901688   \n",
       "\n",
       "    stddev_g   stddev_b   contrast correlation inverse_difference_moments  \\\n",
       "0  92.057531  28.424575  21.483121    0.996633                   0.623834   \n",
       "\n",
       "    entropy  \n",
       "0  5.827438  "
      ]
     },
     "execution_count": 46,
     "metadata": {},
     "output_type": "execute_result"
    }
   ],
   "source": [
    "features_of_img = feature_extract(bg_rem_img)\n",
    "features_of_img"
   ]
  },
  {
   "cell_type": "code",
   "execution_count": 47,
   "id": "6ec49616",
   "metadata": {},
   "outputs": [
    {
     "name": "stdout",
     "output_type": "stream",
     "text": [
      "[[ 1.3584188   1.26033735  0.63132778  0.66014888 -0.31105806 -0.31180192\n",
      "  -0.25430419  0.33727917  0.70913471 -0.01093455  0.24628604  1.29122533\n",
      "  -0.46697339 -0.21208121 -0.05242719 -1.22939103  0.86264098]]\n"
     ]
    },
    {
     "name": "stderr",
     "output_type": "stream",
     "text": [
      "C:\\Users\\Dell\\anaconda3\\lib\\site-packages\\sklearn\\base.py:493: FutureWarning: The feature names should match those that were passed during fit. Starting version 1.2, an error will be raised.\n",
      "Feature names unseen at fit time:\n",
      "- pysiological_length\n",
      "- pysiological_width\n",
      "Feature names seen at fit time, yet now missing:\n",
      "- physiological_length\n",
      "- physiological_width\n",
      "\n",
      "  warnings.warn(message, FutureWarning)\n"
     ]
    },
    {
     "data": {
      "text/plain": [
       "17"
      ]
     },
     "execution_count": 47,
     "metadata": {},
     "output_type": "execute_result"
    }
   ],
   "source": [
    "scaled_features = sc_X.transform(features_of_img)\n",
    "print(scaled_features)\n",
    "# y_pred_mobile = svm_clf.predict(features_of_img)\n",
    "y_pred_mobile = svm_clf.predict(scaled_features)\n",
    "y_pred_mobile[0]"
   ]
  },
  {
   "cell_type": "code",
   "execution_count": 48,
   "id": "756403b1",
   "metadata": {},
   "outputs": [
    {
     "data": {
      "text/plain": [
       "'ginkgo, maidenhair tree'"
      ]
     },
     "execution_count": 48,
     "metadata": {},
     "output_type": "execute_result"
    }
   ],
   "source": [
    "common_names = ['pubescent bamboo','Chinese horse chestnut','Anhui Barberry', \\\n",
    "                'Chinese redbud','true indigo','Japanese maple','Nanmu',' castor aralia', \\\n",
    "                'Chinese cinnamon','goldenrain tree','Big-fruited Holly','Japanese cheesewood', \\\n",
    "                'wintersweet','camphortree','Japan Arrowwood','sweet osmanthus','deodar','ginkgo, maidenhair tree', \\\n",
    "                'Crape myrtle, Crepe myrtle','oleander','yew plum pine','Japanese Flowering Cherry','Glossy Privet',\\\n",
    "                'Chinese Toon','peach','Ford Woodlotus','trident maple','Beales barberry','southern magnolia',\\\n",
    "                'Canadian poplar','Chinese tulip tree','tangerine'\n",
    "               ]\n",
    "common_names[y_pred_mobile[0]]"
   ]
  },
  {
   "cell_type": "code",
   "execution_count": null,
   "id": "80b42582",
   "metadata": {},
   "outputs": [],
   "source": []
  }
 ],
 "metadata": {
  "kernelspec": {
   "display_name": "Python 3 (ipykernel)",
   "language": "python",
   "name": "python3"
  },
  "language_info": {
   "codemirror_mode": {
    "name": "ipython",
    "version": 3
   },
   "file_extension": ".py",
   "mimetype": "text/x-python",
   "name": "python",
   "nbconvert_exporter": "python",
   "pygments_lexer": "ipython3",
   "version": "3.8.12"
  }
 },
 "nbformat": 4,
 "nbformat_minor": 5
}
